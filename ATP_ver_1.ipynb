{
  "nbformat": 4,
  "nbformat_minor": 0,
  "metadata": {
    "colab": {
      "name": "ATP ver. 1.ipynb",
      "provenance": [],
      "collapsed_sections": [],
      "authorship_tag": "ABX9TyOHIJhNF3EnXV6Crnc/WPJO",
      "include_colab_link": true
    },
    "kernelspec": {
      "name": "python3",
      "display_name": "Python 3"
    },
    "language_info": {
      "name": "python"
    }
  },
  "cells": [
    {
      "cell_type": "markdown",
      "metadata": {
        "id": "view-in-github",
        "colab_type": "text"
      },
      "source": [
        "<a href=\"https://colab.research.google.com/github/DataAnalystPL/ATP/blob/main/ATP_ver_1.ipynb\" target=\"_parent\"><img src=\"https://colab.research.google.com/assets/colab-badge.svg\" alt=\"Open In Colab\"/></a>"
      ]
    },
    {
      "cell_type": "code",
      "execution_count": 1,
      "metadata": {
        "id": "8DFP6B_cTuN2"
      },
      "outputs": [],
      "source": [
        "import numpy as np # linear algebra\n",
        "import pandas as pd # data processing, CSV file I/O (e.g. pd.read_csv)\n",
        "import requests\n",
        "import re\n",
        "from bs4 import BeautifulSoup"
      ]
    },
    {
      "cell_type": "code",
      "source": [
        "headers = {'User-Agent': 'Mozilla/5.0 (Windows NT 10.0; Win64; x64) AppleWebKit/537.36 (KHTML, like Gecko) Chrome/98.0.4758.102 Safari/537.36'}\n",
        "\n",
        "response = requests.get(\"https://www.atptour.com/en/rankings/singles?rankRange=1-5000&rankDate=2022-03-07\",headers=headers)"
      ],
      "metadata": {
        "id": "CRBZCnLPT2na"
      },
      "execution_count": 2,
      "outputs": []
    },
    {
      "cell_type": "code",
      "source": [
        "content = response.content\n",
        "soup = BeautifulSoup(content,\"html.parser\")\n",
        "#print(soup.prettify())"
      ],
      "metadata": {
        "id": "inagZNWJT78x"
      },
      "execution_count": 3,
      "outputs": []
    },
    {
      "cell_type": "code",
      "source": [
        "div = soup.find(class_=\"table-rankings-wrapper\")\n"
      ],
      "metadata": {
        "id": "5F4DFECueAp0"
      },
      "execution_count": 4,
      "outputs": []
    },
    {
      "cell_type": "code",
      "source": [
        "#all_lists = soup.find('ul', class_=\"dropdown auto-submit-dropdown\")\n",
        "#ranking_dates = all_lists.find_all('li')\n",
        "#all_lists\n",
        "#for li in all_lists.find_all(\"li\"):\n",
        "    #print(li.text.strip(), end=\" \")\n",
        "#for date in dates:\n",
        " # ranking_dates.append(date.text.strip())\n",
        "#print(ranking_dates)"
      ],
      "metadata": {
        "id": "A9yr-B2jLL7y"
      },
      "execution_count": 30,
      "outputs": []
    },
    {
      "cell_type": "code",
      "source": [
        "ranks = soup.find_all(class_=\"rank-cell border-left-4 border-right-dash-1\")\n",
        "ranks_list=[]\n",
        "for rank in ranks:\n",
        "  ranks_list.append(rank.text.strip())\n",
        "#print(ranks_list)\n",
        "players = soup.find_all(class_=\"player-cell-wrapper\")\n",
        "players_list=[]\n",
        "for player in players:\n",
        "  players_list.append(player.text.strip())\n",
        "  \n",
        "#print(players_list)\n",
        "points = soup.find_all(class_=\"points-cell border-right-dash-1\")\n",
        "points_list=[]\n",
        "for point in points:\n",
        "  points_list.append(point.text.strip())\n",
        "#print(points_list)"
      ],
      "metadata": {
        "id": "k5zeSpi_UH0I"
      },
      "execution_count": 34,
      "outputs": []
    },
    {
      "cell_type": "code",
      "source": [
        ""
      ],
      "metadata": {
        "id": "jvq7OjobZjE9"
      },
      "execution_count": null,
      "outputs": []
    }
  ]
}